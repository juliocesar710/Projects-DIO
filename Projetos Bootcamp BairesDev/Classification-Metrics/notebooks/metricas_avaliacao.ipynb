{
  "nbformat": 4,
  "nbformat_minor": 0,
  "metadata": {
    "colab": {
      "provenance": []
    },
    "kernelspec": {
      "name": "python3",
      "display_name": "Python 3"
    },
    "language_info": {
      "name": "python"
    },
    "widgets": {
      "application/vnd.jupyter.widget-state+json": {
        "d2fe0dea6be54f3b8a0dccd8c7a68e68": {
          "model_module": "@jupyter-widgets/controls",
          "model_name": "VBoxModel",
          "model_module_version": "1.5.0",
          "state": {
            "_dom_classes": [
              "widget-interact"
            ],
            "_model_module": "@jupyter-widgets/controls",
            "_model_module_version": "1.5.0",
            "_model_name": "VBoxModel",
            "_view_count": null,
            "_view_module": "@jupyter-widgets/controls",
            "_view_module_version": "1.5.0",
            "_view_name": "VBoxView",
            "box_style": "",
            "children": [
              "IPY_MODEL_7c517add318c4f6f8e2581d79d2c14b3",
              "IPY_MODEL_1aaeb2c1145e4785b4ab7e3644a9a00e",
              "IPY_MODEL_ae05de21b96f460d88444554081970a0",
              "IPY_MODEL_f8a57a75002b4284a796245fee19e341",
              "IPY_MODEL_6f081a9288fb4fa4bd73015697402f6d"
            ],
            "layout": "IPY_MODEL_924e0bd9584e4441ad3baf5d384fd835"
          }
        },
        "7c517add318c4f6f8e2581d79d2c14b3": {
          "model_module": "@jupyter-widgets/controls",
          "model_name": "IntSliderModel",
          "model_module_version": "1.5.0",
          "state": {
            "_dom_classes": [],
            "_model_module": "@jupyter-widgets/controls",
            "_model_module_version": "1.5.0",
            "_model_name": "IntSliderModel",
            "_view_count": null,
            "_view_module": "@jupyter-widgets/controls",
            "_view_module_version": "1.5.0",
            "_view_name": "IntSliderView",
            "continuous_update": true,
            "description": "vp",
            "description_tooltip": null,
            "disabled": false,
            "layout": "IPY_MODEL_279cfabe95714ee6af9420f78da7521d",
            "max": 100,
            "min": 0,
            "orientation": "horizontal",
            "readout": true,
            "readout_format": "d",
            "step": 1,
            "style": "IPY_MODEL_615f1c3d82ea484784302a4b25464501",
            "value": 50
          }
        },
        "1aaeb2c1145e4785b4ab7e3644a9a00e": {
          "model_module": "@jupyter-widgets/controls",
          "model_name": "IntSliderModel",
          "model_module_version": "1.5.0",
          "state": {
            "_dom_classes": [],
            "_model_module": "@jupyter-widgets/controls",
            "_model_module_version": "1.5.0",
            "_model_name": "IntSliderModel",
            "_view_count": null,
            "_view_module": "@jupyter-widgets/controls",
            "_view_module_version": "1.5.0",
            "_view_name": "IntSliderView",
            "continuous_update": true,
            "description": "vn",
            "description_tooltip": null,
            "disabled": false,
            "layout": "IPY_MODEL_a3381cfb4c8b41e0b1a001707c92c864",
            "max": 100,
            "min": 0,
            "orientation": "horizontal",
            "readout": true,
            "readout_format": "d",
            "step": 1,
            "style": "IPY_MODEL_d12fe20e43b7414d8d2f6190c1a6725d",
            "value": 50
          }
        },
        "ae05de21b96f460d88444554081970a0": {
          "model_module": "@jupyter-widgets/controls",
          "model_name": "IntSliderModel",
          "model_module_version": "1.5.0",
          "state": {
            "_dom_classes": [],
            "_model_module": "@jupyter-widgets/controls",
            "_model_module_version": "1.5.0",
            "_model_name": "IntSliderModel",
            "_view_count": null,
            "_view_module": "@jupyter-widgets/controls",
            "_view_module_version": "1.5.0",
            "_view_name": "IntSliderView",
            "continuous_update": true,
            "description": "fp",
            "description_tooltip": null,
            "disabled": false,
            "layout": "IPY_MODEL_c74f0881de13406cb9a87e9da7d4e523",
            "max": 100,
            "min": 0,
            "orientation": "horizontal",
            "readout": true,
            "readout_format": "d",
            "step": 1,
            "style": "IPY_MODEL_3a1eb55c16ee468d85af8ebc3d80c0d5",
            "value": 50
          }
        },
        "f8a57a75002b4284a796245fee19e341": {
          "model_module": "@jupyter-widgets/controls",
          "model_name": "IntSliderModel",
          "model_module_version": "1.5.0",
          "state": {
            "_dom_classes": [],
            "_model_module": "@jupyter-widgets/controls",
            "_model_module_version": "1.5.0",
            "_model_name": "IntSliderModel",
            "_view_count": null,
            "_view_module": "@jupyter-widgets/controls",
            "_view_module_version": "1.5.0",
            "_view_name": "IntSliderView",
            "continuous_update": true,
            "description": "fn",
            "description_tooltip": null,
            "disabled": false,
            "layout": "IPY_MODEL_619ceae2926e4a94ada2b6a3fe5d576d",
            "max": 100,
            "min": 0,
            "orientation": "horizontal",
            "readout": true,
            "readout_format": "d",
            "step": 1,
            "style": "IPY_MODEL_c003946b4249467b8c15f6d3e5e179c3",
            "value": 50
          }
        },
        "6f081a9288fb4fa4bd73015697402f6d": {
          "model_module": "@jupyter-widgets/output",
          "model_name": "OutputModel",
          "model_module_version": "1.0.0",
          "state": {
            "_dom_classes": [],
            "_model_module": "@jupyter-widgets/output",
            "_model_module_version": "1.0.0",
            "_model_name": "OutputModel",
            "_view_count": null,
            "_view_module": "@jupyter-widgets/output",
            "_view_module_version": "1.0.0",
            "_view_name": "OutputView",
            "layout": "IPY_MODEL_58c99c1adbeb4ec89ad9568db4bcbabf",
            "msg_id": "",
            "outputs": [
              {
                "output_type": "stream",
                "name": "stdout",
                "text": [
                  "Acurácia: 0.50\n",
                  "Sensibilidade: 0.50\n",
                  "Precisão: 0.50\n",
                  "Especificidade: 0.50\n",
                  "F-Score: 0.50\n"
                ]
              }
            ]
          }
        },
        "924e0bd9584e4441ad3baf5d384fd835": {
          "model_module": "@jupyter-widgets/base",
          "model_name": "LayoutModel",
          "model_module_version": "1.2.0",
          "state": {
            "_model_module": "@jupyter-widgets/base",
            "_model_module_version": "1.2.0",
            "_model_name": "LayoutModel",
            "_view_count": null,
            "_view_module": "@jupyter-widgets/base",
            "_view_module_version": "1.2.0",
            "_view_name": "LayoutView",
            "align_content": null,
            "align_items": null,
            "align_self": null,
            "border": null,
            "bottom": null,
            "display": null,
            "flex": null,
            "flex_flow": null,
            "grid_area": null,
            "grid_auto_columns": null,
            "grid_auto_flow": null,
            "grid_auto_rows": null,
            "grid_column": null,
            "grid_gap": null,
            "grid_row": null,
            "grid_template_areas": null,
            "grid_template_columns": null,
            "grid_template_rows": null,
            "height": null,
            "justify_content": null,
            "justify_items": null,
            "left": null,
            "margin": null,
            "max_height": null,
            "max_width": null,
            "min_height": null,
            "min_width": null,
            "object_fit": null,
            "object_position": null,
            "order": null,
            "overflow": null,
            "overflow_x": null,
            "overflow_y": null,
            "padding": null,
            "right": null,
            "top": null,
            "visibility": null,
            "width": null
          }
        },
        "279cfabe95714ee6af9420f78da7521d": {
          "model_module": "@jupyter-widgets/base",
          "model_name": "LayoutModel",
          "model_module_version": "1.2.0",
          "state": {
            "_model_module": "@jupyter-widgets/base",
            "_model_module_version": "1.2.0",
            "_model_name": "LayoutModel",
            "_view_count": null,
            "_view_module": "@jupyter-widgets/base",
            "_view_module_version": "1.2.0",
            "_view_name": "LayoutView",
            "align_content": null,
            "align_items": null,
            "align_self": null,
            "border": null,
            "bottom": null,
            "display": null,
            "flex": null,
            "flex_flow": null,
            "grid_area": null,
            "grid_auto_columns": null,
            "grid_auto_flow": null,
            "grid_auto_rows": null,
            "grid_column": null,
            "grid_gap": null,
            "grid_row": null,
            "grid_template_areas": null,
            "grid_template_columns": null,
            "grid_template_rows": null,
            "height": null,
            "justify_content": null,
            "justify_items": null,
            "left": null,
            "margin": null,
            "max_height": null,
            "max_width": null,
            "min_height": null,
            "min_width": null,
            "object_fit": null,
            "object_position": null,
            "order": null,
            "overflow": null,
            "overflow_x": null,
            "overflow_y": null,
            "padding": null,
            "right": null,
            "top": null,
            "visibility": null,
            "width": null
          }
        },
        "615f1c3d82ea484784302a4b25464501": {
          "model_module": "@jupyter-widgets/controls",
          "model_name": "SliderStyleModel",
          "model_module_version": "1.5.0",
          "state": {
            "_model_module": "@jupyter-widgets/controls",
            "_model_module_version": "1.5.0",
            "_model_name": "SliderStyleModel",
            "_view_count": null,
            "_view_module": "@jupyter-widgets/base",
            "_view_module_version": "1.2.0",
            "_view_name": "StyleView",
            "description_width": "",
            "handle_color": null
          }
        },
        "a3381cfb4c8b41e0b1a001707c92c864": {
          "model_module": "@jupyter-widgets/base",
          "model_name": "LayoutModel",
          "model_module_version": "1.2.0",
          "state": {
            "_model_module": "@jupyter-widgets/base",
            "_model_module_version": "1.2.0",
            "_model_name": "LayoutModel",
            "_view_count": null,
            "_view_module": "@jupyter-widgets/base",
            "_view_module_version": "1.2.0",
            "_view_name": "LayoutView",
            "align_content": null,
            "align_items": null,
            "align_self": null,
            "border": null,
            "bottom": null,
            "display": null,
            "flex": null,
            "flex_flow": null,
            "grid_area": null,
            "grid_auto_columns": null,
            "grid_auto_flow": null,
            "grid_auto_rows": null,
            "grid_column": null,
            "grid_gap": null,
            "grid_row": null,
            "grid_template_areas": null,
            "grid_template_columns": null,
            "grid_template_rows": null,
            "height": null,
            "justify_content": null,
            "justify_items": null,
            "left": null,
            "margin": null,
            "max_height": null,
            "max_width": null,
            "min_height": null,
            "min_width": null,
            "object_fit": null,
            "object_position": null,
            "order": null,
            "overflow": null,
            "overflow_x": null,
            "overflow_y": null,
            "padding": null,
            "right": null,
            "top": null,
            "visibility": null,
            "width": null
          }
        },
        "d12fe20e43b7414d8d2f6190c1a6725d": {
          "model_module": "@jupyter-widgets/controls",
          "model_name": "SliderStyleModel",
          "model_module_version": "1.5.0",
          "state": {
            "_model_module": "@jupyter-widgets/controls",
            "_model_module_version": "1.5.0",
            "_model_name": "SliderStyleModel",
            "_view_count": null,
            "_view_module": "@jupyter-widgets/base",
            "_view_module_version": "1.2.0",
            "_view_name": "StyleView",
            "description_width": "",
            "handle_color": null
          }
        },
        "c74f0881de13406cb9a87e9da7d4e523": {
          "model_module": "@jupyter-widgets/base",
          "model_name": "LayoutModel",
          "model_module_version": "1.2.0",
          "state": {
            "_model_module": "@jupyter-widgets/base",
            "_model_module_version": "1.2.0",
            "_model_name": "LayoutModel",
            "_view_count": null,
            "_view_module": "@jupyter-widgets/base",
            "_view_module_version": "1.2.0",
            "_view_name": "LayoutView",
            "align_content": null,
            "align_items": null,
            "align_self": null,
            "border": null,
            "bottom": null,
            "display": null,
            "flex": null,
            "flex_flow": null,
            "grid_area": null,
            "grid_auto_columns": null,
            "grid_auto_flow": null,
            "grid_auto_rows": null,
            "grid_column": null,
            "grid_gap": null,
            "grid_row": null,
            "grid_template_areas": null,
            "grid_template_columns": null,
            "grid_template_rows": null,
            "height": null,
            "justify_content": null,
            "justify_items": null,
            "left": null,
            "margin": null,
            "max_height": null,
            "max_width": null,
            "min_height": null,
            "min_width": null,
            "object_fit": null,
            "object_position": null,
            "order": null,
            "overflow": null,
            "overflow_x": null,
            "overflow_y": null,
            "padding": null,
            "right": null,
            "top": null,
            "visibility": null,
            "width": null
          }
        },
        "3a1eb55c16ee468d85af8ebc3d80c0d5": {
          "model_module": "@jupyter-widgets/controls",
          "model_name": "SliderStyleModel",
          "model_module_version": "1.5.0",
          "state": {
            "_model_module": "@jupyter-widgets/controls",
            "_model_module_version": "1.5.0",
            "_model_name": "SliderStyleModel",
            "_view_count": null,
            "_view_module": "@jupyter-widgets/base",
            "_view_module_version": "1.2.0",
            "_view_name": "StyleView",
            "description_width": "",
            "handle_color": null
          }
        },
        "619ceae2926e4a94ada2b6a3fe5d576d": {
          "model_module": "@jupyter-widgets/base",
          "model_name": "LayoutModel",
          "model_module_version": "1.2.0",
          "state": {
            "_model_module": "@jupyter-widgets/base",
            "_model_module_version": "1.2.0",
            "_model_name": "LayoutModel",
            "_view_count": null,
            "_view_module": "@jupyter-widgets/base",
            "_view_module_version": "1.2.0",
            "_view_name": "LayoutView",
            "align_content": null,
            "align_items": null,
            "align_self": null,
            "border": null,
            "bottom": null,
            "display": null,
            "flex": null,
            "flex_flow": null,
            "grid_area": null,
            "grid_auto_columns": null,
            "grid_auto_flow": null,
            "grid_auto_rows": null,
            "grid_column": null,
            "grid_gap": null,
            "grid_row": null,
            "grid_template_areas": null,
            "grid_template_columns": null,
            "grid_template_rows": null,
            "height": null,
            "justify_content": null,
            "justify_items": null,
            "left": null,
            "margin": null,
            "max_height": null,
            "max_width": null,
            "min_height": null,
            "min_width": null,
            "object_fit": null,
            "object_position": null,
            "order": null,
            "overflow": null,
            "overflow_x": null,
            "overflow_y": null,
            "padding": null,
            "right": null,
            "top": null,
            "visibility": null,
            "width": null
          }
        },
        "c003946b4249467b8c15f6d3e5e179c3": {
          "model_module": "@jupyter-widgets/controls",
          "model_name": "SliderStyleModel",
          "model_module_version": "1.5.0",
          "state": {
            "_model_module": "@jupyter-widgets/controls",
            "_model_module_version": "1.5.0",
            "_model_name": "SliderStyleModel",
            "_view_count": null,
            "_view_module": "@jupyter-widgets/base",
            "_view_module_version": "1.2.0",
            "_view_name": "StyleView",
            "description_width": "",
            "handle_color": null
          }
        },
        "58c99c1adbeb4ec89ad9568db4bcbabf": {
          "model_module": "@jupyter-widgets/base",
          "model_name": "LayoutModel",
          "model_module_version": "1.2.0",
          "state": {
            "_model_module": "@jupyter-widgets/base",
            "_model_module_version": "1.2.0",
            "_model_name": "LayoutModel",
            "_view_count": null,
            "_view_module": "@jupyter-widgets/base",
            "_view_module_version": "1.2.0",
            "_view_name": "LayoutView",
            "align_content": null,
            "align_items": null,
            "align_self": null,
            "border": null,
            "bottom": null,
            "display": null,
            "flex": null,
            "flex_flow": null,
            "grid_area": null,
            "grid_auto_columns": null,
            "grid_auto_flow": null,
            "grid_auto_rows": null,
            "grid_column": null,
            "grid_gap": null,
            "grid_row": null,
            "grid_template_areas": null,
            "grid_template_columns": null,
            "grid_template_rows": null,
            "height": null,
            "justify_content": null,
            "justify_items": null,
            "left": null,
            "margin": null,
            "max_height": null,
            "max_width": null,
            "min_height": null,
            "min_width": null,
            "object_fit": null,
            "object_position": null,
            "order": null,
            "overflow": null,
            "overflow_x": null,
            "overflow_y": null,
            "padding": null,
            "right": null,
            "top": null,
            "visibility": null,
            "width": null
          }
        },
        "676c046f9ea045ab9a60b71d58af8fd9": {
          "model_module": "@jupyter-widgets/controls",
          "model_name": "VBoxModel",
          "model_module_version": "1.5.0",
          "state": {
            "_dom_classes": [
              "widget-interact"
            ],
            "_model_module": "@jupyter-widgets/controls",
            "_model_module_version": "1.5.0",
            "_model_name": "VBoxModel",
            "_view_count": null,
            "_view_module": "@jupyter-widgets/controls",
            "_view_module_version": "1.5.0",
            "_view_name": "VBoxView",
            "box_style": "",
            "children": [
              "IPY_MODEL_37f6c6b9bd594038a14c7485f4b85120",
              "IPY_MODEL_a9b042153109470b8569de0cdded639c"
            ],
            "layout": "IPY_MODEL_eee26c9faae34c7a9dfe08311105026d"
          }
        },
        "37f6c6b9bd594038a14c7485f4b85120": {
          "model_module": "@jupyter-widgets/controls",
          "model_name": "ToggleButtonModel",
          "model_module_version": "1.5.0",
          "state": {
            "_dom_classes": [],
            "_model_module": "@jupyter-widgets/controls",
            "_model_module_version": "1.5.0",
            "_model_name": "ToggleButtonModel",
            "_view_count": null,
            "_view_module": "@jupyter-widgets/controls",
            "_view_module_version": "1.5.0",
            "_view_name": "ToggleButtonView",
            "button_style": "",
            "description": "Salvar Gráfico",
            "description_tooltip": null,
            "disabled": false,
            "icon": "check",
            "layout": "IPY_MODEL_249a2caedf8840fc8c23007d802a1388",
            "style": "IPY_MODEL_d368d727856a49e9858eb7ed394299bc",
            "tooltip": "Clique para salvar",
            "value": false
          }
        },
        "a9b042153109470b8569de0cdded639c": {
          "model_module": "@jupyter-widgets/output",
          "model_name": "OutputModel",
          "model_module_version": "1.0.0",
          "state": {
            "_dom_classes": [],
            "_model_module": "@jupyter-widgets/output",
            "_model_module_version": "1.0.0",
            "_model_name": "OutputModel",
            "_view_count": null,
            "_view_module": "@jupyter-widgets/output",
            "_view_module_version": "1.0.0",
            "_view_name": "OutputView",
            "layout": "IPY_MODEL_7ae3bc9a81b141d9aa469ca2cf9ce5c7",
            "msg_id": "",
            "outputs": [
              {
                "output_type": "display_data",
                "data": {
                  "text/plain": "<Figure size 800x500 with 1 Axes>",
                  "image/png": "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\n"
                },
                "metadata": {}
              }
            ]
          }
        },
        "eee26c9faae34c7a9dfe08311105026d": {
          "model_module": "@jupyter-widgets/base",
          "model_name": "LayoutModel",
          "model_module_version": "1.2.0",
          "state": {
            "_model_module": "@jupyter-widgets/base",
            "_model_module_version": "1.2.0",
            "_model_name": "LayoutModel",
            "_view_count": null,
            "_view_module": "@jupyter-widgets/base",
            "_view_module_version": "1.2.0",
            "_view_name": "LayoutView",
            "align_content": null,
            "align_items": null,
            "align_self": null,
            "border": null,
            "bottom": null,
            "display": null,
            "flex": null,
            "flex_flow": null,
            "grid_area": null,
            "grid_auto_columns": null,
            "grid_auto_flow": null,
            "grid_auto_rows": null,
            "grid_column": null,
            "grid_gap": null,
            "grid_row": null,
            "grid_template_areas": null,
            "grid_template_columns": null,
            "grid_template_rows": null,
            "height": null,
            "justify_content": null,
            "justify_items": null,
            "left": null,
            "margin": null,
            "max_height": null,
            "max_width": null,
            "min_height": null,
            "min_width": null,
            "object_fit": null,
            "object_position": null,
            "order": null,
            "overflow": null,
            "overflow_x": null,
            "overflow_y": null,
            "padding": null,
            "right": null,
            "top": null,
            "visibility": null,
            "width": null
          }
        },
        "249a2caedf8840fc8c23007d802a1388": {
          "model_module": "@jupyter-widgets/base",
          "model_name": "LayoutModel",
          "model_module_version": "1.2.0",
          "state": {
            "_model_module": "@jupyter-widgets/base",
            "_model_module_version": "1.2.0",
            "_model_name": "LayoutModel",
            "_view_count": null,
            "_view_module": "@jupyter-widgets/base",
            "_view_module_version": "1.2.0",
            "_view_name": "LayoutView",
            "align_content": null,
            "align_items": null,
            "align_self": null,
            "border": null,
            "bottom": null,
            "display": null,
            "flex": null,
            "flex_flow": null,
            "grid_area": null,
            "grid_auto_columns": null,
            "grid_auto_flow": null,
            "grid_auto_rows": null,
            "grid_column": null,
            "grid_gap": null,
            "grid_row": null,
            "grid_template_areas": null,
            "grid_template_columns": null,
            "grid_template_rows": null,
            "height": null,
            "justify_content": null,
            "justify_items": null,
            "left": null,
            "margin": null,
            "max_height": null,
            "max_width": null,
            "min_height": null,
            "min_width": null,
            "object_fit": null,
            "object_position": null,
            "order": null,
            "overflow": null,
            "overflow_x": null,
            "overflow_y": null,
            "padding": null,
            "right": null,
            "top": null,
            "visibility": null,
            "width": null
          }
        },
        "d368d727856a49e9858eb7ed394299bc": {
          "model_module": "@jupyter-widgets/controls",
          "model_name": "DescriptionStyleModel",
          "model_module_version": "1.5.0",
          "state": {
            "_model_module": "@jupyter-widgets/controls",
            "_model_module_version": "1.5.0",
            "_model_name": "DescriptionStyleModel",
            "_view_count": null,
            "_view_module": "@jupyter-widgets/base",
            "_view_module_version": "1.2.0",
            "_view_name": "StyleView",
            "description_width": ""
          }
        },
        "7ae3bc9a81b141d9aa469ca2cf9ce5c7": {
          "model_module": "@jupyter-widgets/base",
          "model_name": "LayoutModel",
          "model_module_version": "1.2.0",
          "state": {
            "_model_module": "@jupyter-widgets/base",
            "_model_module_version": "1.2.0",
            "_model_name": "LayoutModel",
            "_view_count": null,
            "_view_module": "@jupyter-widgets/base",
            "_view_module_version": "1.2.0",
            "_view_name": "LayoutView",
            "align_content": null,
            "align_items": null,
            "align_self": null,
            "border": null,
            "bottom": null,
            "display": null,
            "flex": null,
            "flex_flow": null,
            "grid_area": null,
            "grid_auto_columns": null,
            "grid_auto_flow": null,
            "grid_auto_rows": null,
            "grid_column": null,
            "grid_gap": null,
            "grid_row": null,
            "grid_template_areas": null,
            "grid_template_columns": null,
            "grid_template_rows": null,
            "height": null,
            "justify_content": null,
            "justify_items": null,
            "left": null,
            "margin": null,
            "max_height": null,
            "max_width": null,
            "min_height": null,
            "min_width": null,
            "object_fit": null,
            "object_position": null,
            "order": null,
            "overflow": null,
            "overflow_x": null,
            "overflow_y": null,
            "padding": null,
            "right": null,
            "top": null,
            "visibility": null,
            "width": null
          }
        },
        "2656fff6bb6046cebae6c3afc2dd0e5b": {
          "model_module": "@jupyter-widgets/controls",
          "model_name": "VBoxModel",
          "model_module_version": "1.5.0",
          "state": {
            "_dom_classes": [
              "widget-interact"
            ],
            "_model_module": "@jupyter-widgets/controls",
            "_model_module_version": "1.5.0",
            "_model_name": "VBoxModel",
            "_view_count": null,
            "_view_module": "@jupyter-widgets/controls",
            "_view_module_version": "1.5.0",
            "_view_name": "VBoxView",
            "box_style": "",
            "children": [
              "IPY_MODEL_a052939de65f459fb34c2a9124ad7d44",
              "IPY_MODEL_8a68b3c46002420d9017380a75e6343d"
            ],
            "layout": "IPY_MODEL_b414f7dd7f2d44b188ab63f3e94d18b8"
          }
        },
        "a052939de65f459fb34c2a9124ad7d44": {
          "model_module": "@jupyter-widgets/controls",
          "model_name": "ToggleButtonModel",
          "model_module_version": "1.5.0",
          "state": {
            "_dom_classes": [],
            "_model_module": "@jupyter-widgets/controls",
            "_model_module_version": "1.5.0",
            "_model_name": "ToggleButtonModel",
            "_view_count": null,
            "_view_module": "@jupyter-widgets/controls",
            "_view_module_version": "1.5.0",
            "_view_name": "ToggleButtonView",
            "button_style": "",
            "description": "Salvar Heatmap",
            "description_tooltip": null,
            "disabled": false,
            "icon": "check",
            "layout": "IPY_MODEL_770dce20ae07494c82a12ef513910c78",
            "style": "IPY_MODEL_06d6c5e084674a3d8042f0c0c74953ff",
            "tooltip": "Clique para salvar",
            "value": false
          }
        },
        "8a68b3c46002420d9017380a75e6343d": {
          "model_module": "@jupyter-widgets/output",
          "model_name": "OutputModel",
          "model_module_version": "1.0.0",
          "state": {
            "_dom_classes": [],
            "_model_module": "@jupyter-widgets/output",
            "_model_module_version": "1.0.0",
            "_model_name": "OutputModel",
            "_view_count": null,
            "_view_module": "@jupyter-widgets/output",
            "_view_module_version": "1.0.0",
            "_view_name": "OutputView",
            "layout": "IPY_MODEL_ec9c988fb7ce45d1a03cf21f88b02392",
            "msg_id": "",
            "outputs": [
              {
                "output_type": "display_data",
                "data": {
                  "text/plain": "<Figure size 800x500 with 2 Axes>",
                  "image/png": "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\n"
                },
                "metadata": {}
              }
            ]
          }
        },
        "b414f7dd7f2d44b188ab63f3e94d18b8": {
          "model_module": "@jupyter-widgets/base",
          "model_name": "LayoutModel",
          "model_module_version": "1.2.0",
          "state": {
            "_model_module": "@jupyter-widgets/base",
            "_model_module_version": "1.2.0",
            "_model_name": "LayoutModel",
            "_view_count": null,
            "_view_module": "@jupyter-widgets/base",
            "_view_module_version": "1.2.0",
            "_view_name": "LayoutView",
            "align_content": null,
            "align_items": null,
            "align_self": null,
            "border": null,
            "bottom": null,
            "display": null,
            "flex": null,
            "flex_flow": null,
            "grid_area": null,
            "grid_auto_columns": null,
            "grid_auto_flow": null,
            "grid_auto_rows": null,
            "grid_column": null,
            "grid_gap": null,
            "grid_row": null,
            "grid_template_areas": null,
            "grid_template_columns": null,
            "grid_template_rows": null,
            "height": null,
            "justify_content": null,
            "justify_items": null,
            "left": null,
            "margin": null,
            "max_height": null,
            "max_width": null,
            "min_height": null,
            "min_width": null,
            "object_fit": null,
            "object_position": null,
            "order": null,
            "overflow": null,
            "overflow_x": null,
            "overflow_y": null,
            "padding": null,
            "right": null,
            "top": null,
            "visibility": null,
            "width": null
          }
        },
        "770dce20ae07494c82a12ef513910c78": {
          "model_module": "@jupyter-widgets/base",
          "model_name": "LayoutModel",
          "model_module_version": "1.2.0",
          "state": {
            "_model_module": "@jupyter-widgets/base",
            "_model_module_version": "1.2.0",
            "_model_name": "LayoutModel",
            "_view_count": null,
            "_view_module": "@jupyter-widgets/base",
            "_view_module_version": "1.2.0",
            "_view_name": "LayoutView",
            "align_content": null,
            "align_items": null,
            "align_self": null,
            "border": null,
            "bottom": null,
            "display": null,
            "flex": null,
            "flex_flow": null,
            "grid_area": null,
            "grid_auto_columns": null,
            "grid_auto_flow": null,
            "grid_auto_rows": null,
            "grid_column": null,
            "grid_gap": null,
            "grid_row": null,
            "grid_template_areas": null,
            "grid_template_columns": null,
            "grid_template_rows": null,
            "height": null,
            "justify_content": null,
            "justify_items": null,
            "left": null,
            "margin": null,
            "max_height": null,
            "max_width": null,
            "min_height": null,
            "min_width": null,
            "object_fit": null,
            "object_position": null,
            "order": null,
            "overflow": null,
            "overflow_x": null,
            "overflow_y": null,
            "padding": null,
            "right": null,
            "top": null,
            "visibility": null,
            "width": null
          }
        },
        "06d6c5e084674a3d8042f0c0c74953ff": {
          "model_module": "@jupyter-widgets/controls",
          "model_name": "DescriptionStyleModel",
          "model_module_version": "1.5.0",
          "state": {
            "_model_module": "@jupyter-widgets/controls",
            "_model_module_version": "1.5.0",
            "_model_name": "DescriptionStyleModel",
            "_view_count": null,
            "_view_module": "@jupyter-widgets/base",
            "_view_module_version": "1.2.0",
            "_view_name": "StyleView",
            "description_width": ""
          }
        },
        "ec9c988fb7ce45d1a03cf21f88b02392": {
          "model_module": "@jupyter-widgets/base",
          "model_name": "LayoutModel",
          "model_module_version": "1.2.0",
          "state": {
            "_model_module": "@jupyter-widgets/base",
            "_model_module_version": "1.2.0",
            "_model_name": "LayoutModel",
            "_view_count": null,
            "_view_module": "@jupyter-widgets/base",
            "_view_module_version": "1.2.0",
            "_view_name": "LayoutView",
            "align_content": null,
            "align_items": null,
            "align_self": null,
            "border": null,
            "bottom": null,
            "display": null,
            "flex": null,
            "flex_flow": null,
            "grid_area": null,
            "grid_auto_columns": null,
            "grid_auto_flow": null,
            "grid_auto_rows": null,
            "grid_column": null,
            "grid_gap": null,
            "grid_row": null,
            "grid_template_areas": null,
            "grid_template_columns": null,
            "grid_template_rows": null,
            "height": null,
            "justify_content": null,
            "justify_items": null,
            "left": null,
            "margin": null,
            "max_height": null,
            "max_width": null,
            "min_height": null,
            "min_width": null,
            "object_fit": null,
            "object_position": null,
            "order": null,
            "overflow": null,
            "overflow_x": null,
            "overflow_y": null,
            "padding": null,
            "right": null,
            "top": null,
            "visibility": null,
            "width": null
          }
        },
        "4da87721a64745b7925f99f5fb1e16fb": {
          "model_module": "@jupyter-widgets/controls",
          "model_name": "VBoxModel",
          "model_module_version": "1.5.0",
          "state": {
            "_dom_classes": [
              "widget-interact"
            ],
            "_model_module": "@jupyter-widgets/controls",
            "_model_module_version": "1.5.0",
            "_model_name": "VBoxModel",
            "_view_count": null,
            "_view_module": "@jupyter-widgets/controls",
            "_view_module_version": "1.5.0",
            "_view_name": "VBoxView",
            "box_style": "",
            "children": [
              "IPY_MODEL_d3a1268b7741468f8118d096d2ab5929",
              "IPY_MODEL_83468631c10d44f3a42181fe54241247"
            ],
            "layout": "IPY_MODEL_478ca743c1a54348b2d96cd8f8f01683"
          }
        },
        "d3a1268b7741468f8118d096d2ab5929": {
          "model_module": "@jupyter-widgets/controls",
          "model_name": "ToggleButtonModel",
          "model_module_version": "1.5.0",
          "state": {
            "_dom_classes": [],
            "_model_module": "@jupyter-widgets/controls",
            "_model_module_version": "1.5.0",
            "_model_name": "ToggleButtonModel",
            "_view_count": null,
            "_view_module": "@jupyter-widgets/controls",
            "_view_module_version": "1.5.0",
            "_view_name": "ToggleButtonView",
            "button_style": "",
            "description": "Salvar Matriz de Confusão",
            "description_tooltip": null,
            "disabled": false,
            "icon": "check",
            "layout": "IPY_MODEL_1a96a9942eb64c069b535df14ea91f2e",
            "style": "IPY_MODEL_cc97d476cb2d4f53a12e869237e7c486",
            "tooltip": "Clique para salvar",
            "value": false
          }
        },
        "83468631c10d44f3a42181fe54241247": {
          "model_module": "@jupyter-widgets/output",
          "model_name": "OutputModel",
          "model_module_version": "1.0.0",
          "state": {
            "_dom_classes": [],
            "_model_module": "@jupyter-widgets/output",
            "_model_module_version": "1.0.0",
            "_model_name": "OutputModel",
            "_view_count": null,
            "_view_module": "@jupyter-widgets/output",
            "_view_module_version": "1.0.0",
            "_view_name": "OutputView",
            "layout": "IPY_MODEL_7625ec955f874e4f83e66887acf35606",
            "msg_id": "",
            "outputs": [
              {
                "output_type": "display_data",
                "data": {
                  "text/plain": "<Figure size 600x500 with 2 Axes>",
                  "image/png": "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\n"
                },
                "metadata": {}
              }
            ]
          }
        },
        "478ca743c1a54348b2d96cd8f8f01683": {
          "model_module": "@jupyter-widgets/base",
          "model_name": "LayoutModel",
          "model_module_version": "1.2.0",
          "state": {
            "_model_module": "@jupyter-widgets/base",
            "_model_module_version": "1.2.0",
            "_model_name": "LayoutModel",
            "_view_count": null,
            "_view_module": "@jupyter-widgets/base",
            "_view_module_version": "1.2.0",
            "_view_name": "LayoutView",
            "align_content": null,
            "align_items": null,
            "align_self": null,
            "border": null,
            "bottom": null,
            "display": null,
            "flex": null,
            "flex_flow": null,
            "grid_area": null,
            "grid_auto_columns": null,
            "grid_auto_flow": null,
            "grid_auto_rows": null,
            "grid_column": null,
            "grid_gap": null,
            "grid_row": null,
            "grid_template_areas": null,
            "grid_template_columns": null,
            "grid_template_rows": null,
            "height": null,
            "justify_content": null,
            "justify_items": null,
            "left": null,
            "margin": null,
            "max_height": null,
            "max_width": null,
            "min_height": null,
            "min_width": null,
            "object_fit": null,
            "object_position": null,
            "order": null,
            "overflow": null,
            "overflow_x": null,
            "overflow_y": null,
            "padding": null,
            "right": null,
            "top": null,
            "visibility": null,
            "width": null
          }
        },
        "1a96a9942eb64c069b535df14ea91f2e": {
          "model_module": "@jupyter-widgets/base",
          "model_name": "LayoutModel",
          "model_module_version": "1.2.0",
          "state": {
            "_model_module": "@jupyter-widgets/base",
            "_model_module_version": "1.2.0",
            "_model_name": "LayoutModel",
            "_view_count": null,
            "_view_module": "@jupyter-widgets/base",
            "_view_module_version": "1.2.0",
            "_view_name": "LayoutView",
            "align_content": null,
            "align_items": null,
            "align_self": null,
            "border": null,
            "bottom": null,
            "display": null,
            "flex": null,
            "flex_flow": null,
            "grid_area": null,
            "grid_auto_columns": null,
            "grid_auto_flow": null,
            "grid_auto_rows": null,
            "grid_column": null,
            "grid_gap": null,
            "grid_row": null,
            "grid_template_areas": null,
            "grid_template_columns": null,
            "grid_template_rows": null,
            "height": null,
            "justify_content": null,
            "justify_items": null,
            "left": null,
            "margin": null,
            "max_height": null,
            "max_width": null,
            "min_height": null,
            "min_width": null,
            "object_fit": null,
            "object_position": null,
            "order": null,
            "overflow": null,
            "overflow_x": null,
            "overflow_y": null,
            "padding": null,
            "right": null,
            "top": null,
            "visibility": null,
            "width": null
          }
        },
        "cc97d476cb2d4f53a12e869237e7c486": {
          "model_module": "@jupyter-widgets/controls",
          "model_name": "DescriptionStyleModel",
          "model_module_version": "1.5.0",
          "state": {
            "_model_module": "@jupyter-widgets/controls",
            "_model_module_version": "1.5.0",
            "_model_name": "DescriptionStyleModel",
            "_view_count": null,
            "_view_module": "@jupyter-widgets/base",
            "_view_module_version": "1.2.0",
            "_view_name": "StyleView",
            "description_width": ""
          }
        },
        "7625ec955f874e4f83e66887acf35606": {
          "model_module": "@jupyter-widgets/base",
          "model_name": "LayoutModel",
          "model_module_version": "1.2.0",
          "state": {
            "_model_module": "@jupyter-widgets/base",
            "_model_module_version": "1.2.0",
            "_model_name": "LayoutModel",
            "_view_count": null,
            "_view_module": "@jupyter-widgets/base",
            "_view_module_version": "1.2.0",
            "_view_name": "LayoutView",
            "align_content": null,
            "align_items": null,
            "align_self": null,
            "border": null,
            "bottom": null,
            "display": null,
            "flex": null,
            "flex_flow": null,
            "grid_area": null,
            "grid_auto_columns": null,
            "grid_auto_flow": null,
            "grid_auto_rows": null,
            "grid_column": null,
            "grid_gap": null,
            "grid_row": null,
            "grid_template_areas": null,
            "grid_template_columns": null,
            "grid_template_rows": null,
            "height": null,
            "justify_content": null,
            "justify_items": null,
            "left": null,
            "margin": null,
            "max_height": null,
            "max_width": null,
            "min_height": null,
            "min_width": null,
            "object_fit": null,
            "object_position": null,
            "order": null,
            "overflow": null,
            "overflow_x": null,
            "overflow_y": null,
            "padding": null,
            "right": null,
            "top": null,
            "visibility": null,
            "width": null
          }
        }
      }
    }
  },
  "cells": [
    {
      "cell_type": "code",
      "execution_count": 1,
      "metadata": {
        "colab": {
          "base_uri": "https://localhost:8080/"
        },
        "id": "I456dv-OqHmf",
        "outputId": "3d0cdff8-2f44-40f5-b02e-ce42744af493"
      },
      "outputs": [
        {
          "output_type": "stream",
          "name": "stdout",
          "text": [
            "Matriz de Confusão:\n",
            "VP: 50, VN: 30, FP: 10, FN: 20\n"
          ]
        }
      ],
      "source": [
        "# Definindo valores arbitrários para a matriz de confusão\n",
        "VP = 50  # Verdadeiros Positivos\n",
        "VN = 30  # Verdadeiros Negativos\n",
        "FP = 10  # Falsos Positivos\n",
        "FN = 20  # Falsos Negativos\n",
        "\n",
        "print(\"Matriz de Confusão:\")\n",
        "print(f\"VP: {VP}, VN: {VN}, FP: {FP}, FN: {FN}\")\n"
      ]
    },
    {
      "cell_type": "code",
      "source": [
        "def calcular_acuracia(vp, vn, fp, fn):\n",
        "    total = vp + vn + fp + fn\n",
        "    acuracia = (vp + vn) / total\n",
        "    return acuracia\n",
        "\n",
        "# Testando a função\n",
        "acuracia = calcular_acuracia(VP, VN, FP, FN)\n",
        "print(f\"Acurácia: {acuracia:.2f}\")\n"
      ],
      "metadata": {
        "colab": {
          "base_uri": "https://localhost:8080/"
        },
        "id": "LSUaOQu4qgqH",
        "outputId": "437a8f8b-1631-4a76-8e83-21a2ee970a85"
      },
      "execution_count": 2,
      "outputs": [
        {
          "output_type": "stream",
          "name": "stdout",
          "text": [
            "Acurácia: 0.73\n"
          ]
        }
      ]
    },
    {
      "cell_type": "code",
      "source": [
        "def calcular_sensibilidade(vp, fn):\n",
        "    return vp / (vp + fn)\n"
      ],
      "metadata": {
        "id": "RKcxPBXkqlFF"
      },
      "execution_count": 3,
      "outputs": []
    },
    {
      "cell_type": "code",
      "source": [
        "def calcular_precisao(vp, fp):\n",
        "    return vp / (vp + fp)\n"
      ],
      "metadata": {
        "id": "51nZ0Mexqpd2"
      },
      "execution_count": 4,
      "outputs": []
    },
    {
      "cell_type": "code",
      "source": [
        "# Função de especificidade\n",
        "def calcular_especificidade(vn, fp):\n",
        "    return vn / (vn + fp)\n",
        "\n",
        "# Função de F-Score\n",
        "def calcular_fscore(precisao, recall):\n",
        "    return 2 * (precisao * recall) / (precisao + recall)\n",
        "\n",
        "# Testando as funções\n",
        "sensibilidade = calcular_sensibilidade(VP, FN)\n",
        "precisao = calcular_precisao(VP, FP)\n",
        "especificidade = calcular_especificidade(VN, FP)\n",
        "fscore = calcular_fscore(precisao, sensibilidade)\n",
        "\n",
        "print(f\"Sensibilidade (Recall): {sensibilidade:.2f}\")\n",
        "print(f\"Precisão: {precisao:.2f}\")\n",
        "print(f\"Especificidade: {especificidade:.2f}\")\n",
        "print(f\"F-Score: {fscore:.2f}\")\n"
      ],
      "metadata": {
        "colab": {
          "base_uri": "https://localhost:8080/"
        },
        "id": "Y3YlBdUOq3TF",
        "outputId": "9d5d852f-4ba5-491e-88d6-1d30f9f4817b"
      },
      "execution_count": 5,
      "outputs": [
        {
          "output_type": "stream",
          "name": "stdout",
          "text": [
            "Sensibilidade (Recall): 0.71\n",
            "Precisão: 0.83\n",
            "Especificidade: 0.75\n",
            "F-Score: 0.77\n"
          ]
        }
      ]
    },
    {
      "cell_type": "code",
      "source": [
        "import pandas as pd\n",
        "\n",
        "# Resumo das métricas\n",
        "metricas = {\n",
        "    \"Métrica\": [\"Acurácia\", \"Sensibilidade (Recall)\", \"Precisão\", \"Especificidade\", \"F-Score\"],\n",
        "    \"Valor\": [acuracia, sensibilidade, precisao, especificidade, fscore]\n",
        "}\n",
        "\n",
        "df_metricas = pd.DataFrame(metricas)\n",
        "print(df_metricas)\n"
      ],
      "metadata": {
        "colab": {
          "base_uri": "https://localhost:8080/"
        },
        "id": "neFsqdcrq-fF",
        "outputId": "8245ef52-9f13-454c-dc20-29b131f46c95"
      },
      "execution_count": 6,
      "outputs": [
        {
          "output_type": "stream",
          "name": "stdout",
          "text": [
            "                  Métrica     Valor\n",
            "0                Acurácia  0.727273\n",
            "1  Sensibilidade (Recall)  0.714286\n",
            "2                Precisão  0.833333\n",
            "3          Especificidade  0.750000\n",
            "4                 F-Score  0.769231\n"
          ]
        }
      ]
    },
    {
      "cell_type": "code",
      "source": [
        "from ipywidgets import interact\n",
        "\n",
        "def atualizar_metricas(vp, vn, fp, fn):\n",
        "    acuracia = calcular_acuracia(vp, vn, fp, fn)\n",
        "    sensibilidade = calcular_sensibilidade(vp, fn)\n",
        "    precisao = calcular_precisao(vp, fp)\n",
        "    especificidade = calcular_especificidade(vn, fp)\n",
        "    fscore = calcular_fscore(precisao, sensibilidade)\n",
        "    print(f\"Acurácia: {acuracia:.2f}\")\n",
        "    print(f\"Sensibilidade: {sensibilidade:.2f}\")\n",
        "    print(f\"Precisão: {precisao:.2f}\")\n",
        "    print(f\"Especificidade: {especificidade:.2f}\")\n",
        "    print(f\"F-Score: {fscore:.2f}\")\n",
        "\n",
        "interact(atualizar_metricas, vp=(0, 100), vn=(0, 100), fp=(0, 100), fn=(0, 100));\n"
      ],
      "metadata": {
        "colab": {
          "base_uri": "https://localhost:8080/",
          "height": 232,
          "referenced_widgets": [
            "d2fe0dea6be54f3b8a0dccd8c7a68e68",
            "7c517add318c4f6f8e2581d79d2c14b3",
            "1aaeb2c1145e4785b4ab7e3644a9a00e",
            "ae05de21b96f460d88444554081970a0",
            "f8a57a75002b4284a796245fee19e341",
            "6f081a9288fb4fa4bd73015697402f6d",
            "924e0bd9584e4441ad3baf5d384fd835",
            "279cfabe95714ee6af9420f78da7521d",
            "615f1c3d82ea484784302a4b25464501",
            "a3381cfb4c8b41e0b1a001707c92c864",
            "d12fe20e43b7414d8d2f6190c1a6725d",
            "c74f0881de13406cb9a87e9da7d4e523",
            "3a1eb55c16ee468d85af8ebc3d80c0d5",
            "619ceae2926e4a94ada2b6a3fe5d576d",
            "c003946b4249467b8c15f6d3e5e179c3",
            "58c99c1adbeb4ec89ad9568db4bcbabf"
          ]
        },
        "id": "TgosUKrhrFMt",
        "outputId": "20dd6a6f-3460-4f22-e8d3-42eca1f1c640"
      },
      "execution_count": 7,
      "outputs": [
        {
          "output_type": "display_data",
          "data": {
            "text/plain": [
              "interactive(children=(IntSlider(value=50, description='vp'), IntSlider(value=50, description='vn'), IntSlider(…"
            ],
            "application/vnd.jupyter.widget-view+json": {
              "version_major": 2,
              "version_minor": 0,
              "model_id": "d2fe0dea6be54f3b8a0dccd8c7a68e68"
            }
          },
          "metadata": {}
        }
      ]
    },
    {
      "cell_type": "code",
      "source": [
        "import matplotlib.pyplot as plt\n",
        "import ipywidgets as widgets\n",
        "\n",
        "# Valores e rótulos das métricas\n",
        "metricas = [\"Acurácia\", \"Sensibilidade\", \"Precisão\", \"Especificidade\", \"F-Score\"]\n",
        "valores = [acuracia, sensibilidade, precisao, especificidade, fscore]\n",
        "\n",
        "# Função para exibir e salvar o gráfico\n",
        "def plotar_salvar_grafico(salvar):\n",
        "    plt.figure(figsize=(8, 5))\n",
        "    plt.bar(metricas, valores, color=['blue', 'green', 'orange', 'red', 'purple'])\n",
        "    plt.ylim(0, 1)  # As métricas estão em proporção de 0 a 1\n",
        "    plt.title(\"Métricas de Avaliação de Classificação\")\n",
        "    plt.ylabel(\"Valor\")\n",
        "    plt.show()\n",
        "\n",
        "    if salvar:\n",
        "        plt.savefig('grafico_metrica.jpeg', format='jpeg')\n",
        "        print(\"Gráfico salvo como 'grafico_metrica.jpeg'\")\n",
        "\n",
        "# Widget para o botão de salvar\n",
        "button = widgets.ToggleButton(\n",
        "    value=False,\n",
        "    description='Salvar Gráfico',\n",
        "    disabled=False,\n",
        "    button_style='',\n",
        "    tooltip='Clique para salvar',\n",
        "    icon='check'\n",
        ")\n",
        "\n",
        "# Conectar o botão à função\n",
        "widgets.interactive(plotar_salvar_grafico, salvar=button)\n"
      ],
      "metadata": {
        "colab": {
          "base_uri": "https://localhost:8080/",
          "height": 500,
          "referenced_widgets": [
            "676c046f9ea045ab9a60b71d58af8fd9",
            "37f6c6b9bd594038a14c7485f4b85120",
            "a9b042153109470b8569de0cdded639c",
            "eee26c9faae34c7a9dfe08311105026d",
            "249a2caedf8840fc8c23007d802a1388",
            "d368d727856a49e9858eb7ed394299bc",
            "7ae3bc9a81b141d9aa469ca2cf9ce5c7"
          ]
        },
        "id": "CpUhza2NriuN",
        "outputId": "43f6088b-b537-4ffa-99d0-705f97008047"
      },
      "execution_count": 18,
      "outputs": [
        {
          "output_type": "display_data",
          "data": {
            "text/plain": [
              "interactive(children=(ToggleButton(value=False, description='Salvar Gráfico', icon='check', tooltip='Clique pa…"
            ],
            "application/vnd.jupyter.widget-view+json": {
              "version_major": 2,
              "version_minor": 0,
              "model_id": "676c046f9ea045ab9a60b71d58af8fd9"
            }
          },
          "metadata": {}
        }
      ]
    },
    {
      "cell_type": "code",
      "source": [
        "import seaborn as sns\n",
        "import pandas as pd\n",
        "import matplotlib.pyplot as plt\n",
        "import ipywidgets as widgets\n",
        "\n",
        "# Preparando os dados para o heatmap\n",
        "data = pd.DataFrame({\"Métrica\": metricas, \"Valor\": valores})\n",
        "data = data.set_index(\"Métrica\")\n",
        "\n",
        "# Função para exibir e salvar o heatmap\n",
        "def plotar_salvar_heatmap(salvar):\n",
        "    plt.figure(figsize=(8, 5))\n",
        "    sns.heatmap(data, annot=True, cmap=\"coolwarm\", cbar=True, fmt=\".2f\")\n",
        "    plt.title(\"Heatmap das Métricas de Avaliação\")\n",
        "    plt.show()\n",
        "\n",
        "    if salvar:\n",
        "        plt.savefig('heatmap_metrica.jpeg', format='jpeg')\n",
        "        print(\"Heatmap salvo como 'heatmap_metrica.jpeg'\")\n",
        "\n",
        "# Widget para o botão de salvar\n",
        "button = widgets.ToggleButton(\n",
        "    value=False,\n",
        "    description='Salvar Heatmap',\n",
        "    disabled=False,\n",
        "    button_style='',\n",
        "    tooltip='Clique para salvar',\n",
        "    icon='check'\n",
        ")\n",
        "\n",
        "# Conectar o botão à função\n",
        "widgets.interactive(plotar_salvar_heatmap, salvar=button)\n"
      ],
      "metadata": {
        "colab": {
          "base_uri": "https://localhost:8080/",
          "height": 500,
          "referenced_widgets": [
            "2656fff6bb6046cebae6c3afc2dd0e5b",
            "a052939de65f459fb34c2a9124ad7d44",
            "8a68b3c46002420d9017380a75e6343d",
            "b414f7dd7f2d44b188ab63f3e94d18b8",
            "770dce20ae07494c82a12ef513910c78",
            "06d6c5e084674a3d8042f0c0c74953ff",
            "ec9c988fb7ce45d1a03cf21f88b02392"
          ]
        },
        "id": "VuMPVEyBrtqN",
        "outputId": "56fb23fb-31ed-4b4f-831d-250ec4f5718f"
      },
      "execution_count": 19,
      "outputs": [
        {
          "output_type": "display_data",
          "data": {
            "text/plain": [
              "interactive(children=(ToggleButton(value=False, description='Salvar Heatmap', icon='check', tooltip='Clique pa…"
            ],
            "application/vnd.jupyter.widget-view+json": {
              "version_major": 2,
              "version_minor": 0,
              "model_id": "2656fff6bb6046cebae6c3afc2dd0e5b"
            }
          },
          "metadata": {}
        }
      ]
    },
    {
      "cell_type": "code",
      "source": [
        "import seaborn as sns\n",
        "import matplotlib.pyplot as plt\n",
        "from sklearn.metrics import confusion_matrix\n",
        "import ipywidgets as widgets\n",
        "\n",
        "# Valores da matriz de confusão (Exemplo: VP, FN, FP, VN)\n",
        "vp, fn, fp, vn = 50, 10, 5, 35  # Utilizando valores diferentes para uma melhor amostragem\n",
        "matrix = [[vp, fn], [fp, vn]]\n",
        "\n",
        "# Função para exibir e salvar a matriz de confusão\n",
        "def plotar_salvar_matriz(salvar):\n",
        "    plt.figure(figsize=(6, 5))\n",
        "    sns.heatmap(matrix, annot=True, fmt=\"d\", cmap=\"Blues\", xticklabels=[\"Previsto Positivo\", \"Previsto Negativo\"],\n",
        "                yticklabels=[\"Real Positivo\", \"Real Negativo\"])\n",
        "    plt.title(\"Matriz de Confusão\")\n",
        "    plt.xlabel(\"Classe Prevista\")\n",
        "    plt.ylabel(\"Classe Real\")\n",
        "    plt.show()\n",
        "\n",
        "    if salvar:\n",
        "        plt.savefig('matriz_confusao.jpeg', format='jpeg')\n",
        "        print(\"Matriz de Confusão salva como 'matriz_confusao.jpeg'\")\n",
        "\n",
        "# Widget para o botão de salvar\n",
        "button = widgets.ToggleButton(\n",
        "    value=False,\n",
        "    description='Salvar Matriz de Confusão',\n",
        "    disabled=False,\n",
        "    button_style='',\n",
        "    tooltip='Clique para salvar',\n",
        "    icon='check'\n",
        ")\n",
        "\n",
        "# Conectar o botão à função\n",
        "widgets.interactive(plotar_salvar_matriz, salvar=button)\n"
      ],
      "metadata": {
        "colab": {
          "base_uri": "https://localhost:8080/",
          "height": 519,
          "referenced_widgets": [
            "4da87721a64745b7925f99f5fb1e16fb",
            "d3a1268b7741468f8118d096d2ab5929",
            "83468631c10d44f3a42181fe54241247",
            "478ca743c1a54348b2d96cd8f8f01683",
            "1a96a9942eb64c069b535df14ea91f2e",
            "cc97d476cb2d4f53a12e869237e7c486",
            "7625ec955f874e4f83e66887acf35606"
          ]
        },
        "id": "elfIYDKnr3Td",
        "outputId": "8feb45ab-a7ec-4242-fbb0-cae7dc391d4e"
      },
      "execution_count": 20,
      "outputs": [
        {
          "output_type": "display_data",
          "data": {
            "text/plain": [
              "interactive(children=(ToggleButton(value=False, description='Salvar Matriz de Confusão', icon='check', tooltip…"
            ],
            "application/vnd.jupyter.widget-view+json": {
              "version_major": 2,
              "version_minor": 0,
              "model_id": "4da87721a64745b7925f99f5fb1e16fb"
            }
          },
          "metadata": {}
        }
      ]
    }
  ]
}